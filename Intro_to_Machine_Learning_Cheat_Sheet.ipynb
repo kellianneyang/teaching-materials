{
  "nbformat": 4,
  "nbformat_minor": 0,
  "metadata": {
    "colab": {
      "provenance": [],
      "authorship_tag": "ABX9TyNWlqvANVM2bSLoJ3VxodiW",
      "include_colab_link": true
    },
    "kernelspec": {
      "name": "python3",
      "display_name": "Python 3"
    },
    "language_info": {
      "name": "python"
    }
  },
  "cells": [
    {
      "cell_type": "markdown",
      "metadata": {
        "id": "view-in-github",
        "colab_type": "text"
      },
      "source": [
        "<a href=\"https://colab.research.google.com/github/kellianneyang/teaching-materials/blob/main/Intro_to_Machine_Learning_Cheat_Sheet.ipynb\" target=\"_parent\"><img src=\"https://colab.research.google.com/assets/colab-badge.svg\" alt=\"Open In Colab\"/></a>"
      ]
    },
    {
      "cell_type": "markdown",
      "source": [
        "# **Intro to Machine Learning Cheat Sheet**\n",
        "\n",
        "**Adapted from:** Coding Dojo Machine Learning stack, week 1 lessons"
      ],
      "metadata": {
        "id": "fK9kTWZIzLMz"
      }
    },
    {
      "cell_type": "markdown",
      "source": [
        "## Preliminary Steps"
      ],
      "metadata": {
        "id": "9MzEqPdTzVo0"
      }
    },
    {
      "cell_type": "code",
      "execution_count": 1,
      "metadata": {
        "id": "1hmYixnwzHNW"
      },
      "outputs": [],
      "source": [
        "# import libraries\n",
        "import pandas as pd\n",
        "import numpy as np\n",
        "from sklearn.preprocessing import StandardScaler, OneHotEncoder\n",
        "from sklearn.impute import SimpleImputer\n",
        "from sklearn.compose import make_column_transformer, make_column_selector\n",
        "from sklearn.pipeline import make_pipeline\n",
        "from sklearn.model_selection import train_test_split \n",
        "from sklearn import set_config\n",
        "set_config(display = 'diagram')\n"
      ]
    },
    {
      "cell_type": "code",
      "source": [
        "# load data\n",
        "path = 'here'\n",
        "df = pd.read_csv(path)"
      ],
      "metadata": {
        "id": "RuR69jBwzsFz"
      },
      "execution_count": null,
      "outputs": []
    },
    {
      "cell_type": "code",
      "source": [
        "# explore data\n",
        "df.info()\n",
        "df.head(10)"
      ],
      "metadata": {
        "id": "D-EMMcVwz2bV"
      },
      "execution_count": null,
      "outputs": []
    },
    {
      "cell_type": "code",
      "source": [
        "# encode ordinal data with replacement dictionary"
      ],
      "metadata": {
        "id": "vZIGtZjjz6dU"
      },
      "execution_count": null,
      "outputs": []
    },
    {
      "cell_type": "markdown",
      "source": [
        "## Assign & Train Test Split"
      ],
      "metadata": {
        "id": "fVF_gE0_z9DM"
      }
    },
    {
      "cell_type": "code",
      "source": [
        "# assign target (y) and features matrix (X)\n",
        "target = 'col_name'\n",
        "y = df[target]\n",
        "X = df.drop(columns = [target]) # alternately: X = df[['feature_col_1', 'feature_col_2', 'feature_col_3']]"
      ],
      "metadata": {
        "id": "KV6P84K20AED"
      },
      "execution_count": null,
      "outputs": []
    },
    {
      "cell_type": "code",
      "source": [
        "# train test split\n",
        "X_train, X_test, Y_train, Y_test = train_test_split(X, y, random_state = 42)"
      ],
      "metadata": {
        "id": "YHomj9wf0eor"
      },
      "execution_count": null,
      "outputs": []
    },
    {
      "cell_type": "markdown",
      "source": [
        "## Instantiations"
      ],
      "metadata": {
        "id": "w4S8sVf30k3z"
      }
    },
    {
      "cell_type": "code",
      "source": [
        "# column selectors\n",
        "col_selector = make_column_selector(dtype_include = 'dtype')"
        " # alternatively: make lists [] with column names
      ],
      "metadata": {
        "id": "RSqCYHFi0mGL"
      },
      "execution_count": null,
      "outputs": []
    },
    {
      "cell_type": "code",
      "source": [
        "# imputers\n",
        "strategy_imputer = SimpleImputer(strategy = 'strategy')\n",
        "\n",
        "# strategies: mean, median, mode, most_frequent"
      ],
      "metadata": {
        "id": "ROzV5qbk0qyM"
      },
      "execution_count": null,
      "outputs": []
    },
    {
      "cell_type": "code",
      "source": [
        "# transformers\n",
        "scaler = StandardScaler()\n",
        "ohe = OneHotEncoder (handle_unknown = 'ignore', sparse = False)"
      ],
      "metadata": {
        "id": "fOskTKUS0x6d"
      },
      "execution_count": null,
      "outputs": []
    },
    {
      "cell_type": "code",
      "source": [
        "# pipelines\n",
        "dtype_pipe = make_pipeline(strategy_imputer, scaler/ohe)\n",
        "\n",
        "# to see pipeline, display()"
      ],
      "metadata": {
        "id": "vCkqRNib05Zk"
      },
      "execution_count": null,
      "outputs": []
    },
    {
      "cell_type": "code",
      "source": [
        "# tuples\n",
        "dtype_tuple = (dtype_pipe, col_selector)"
        " # instead of col_selector can put list [] of columns
      ],
      "metadata": {
        "id": "mItRgorM1AUk"
      },
      "execution_count": null,
      "outputs": []
    },
    {
      "cell_type": "code",
      "source": [
        "# column transformer\n",
        "preprocessor = make_column_transformer(dtype_tuple, other_dtype_tuple)\n",
        "\n",
        "# to see preprocessor, display()"
      ],
      "metadata": {
        "id": "Pq-bGdFe1ErM"
      },
      "execution_count": null,
      "outputs": []
    },
    {
      "cell_type": "markdown",
      "source": [
        "## Train & Transform"
      ],
      "metadata": {
        "id": "zG0ItWkZ1KhU"
      }
    },
    {
      "cell_type": "code",
      "source": [
        "# train preprocessor on TRAINING DATA ONLY\n",
        "preprocessor.fit(X_train)"
      ],
      "metadata": {
        "id": "YRBd7Qci1L4E"
      },
      "execution_count": null,
      "outputs": []
    },
    {
      "cell_type": "code",
      "source": [
        "# transform both training and test data\n",
        "X_train/test_processed = preprocessor.transform(X_train/test)"
      ],
      "metadata": {
        "id": "s1Ituctp1QNk"
      },
      "execution_count": null,
      "outputs": []
    },
    {
      "cell_type": "markdown",
      "source": [
        "## Inspect"
      ],
      "metadata": {
        "id": "-pyHqnJt1UZM"
      }
    },
    {
      "cell_type": "code",
      "source": [
        "# check number of missing values\n",
        "print(np.isnan(X_train/test_processed).sum().sum(), 'missing values in training/testing data')"
      ],
      "metadata": {
        "id": "AV_49OrR1XI6"
      },
      "execution_count": null,
      "outputs": []
    },
    {
      "cell_type": "code",
      "source": [
        "# check dtypes\n",
        "print('All data in X_train/test_processed are', X_train/test_processed.dtype)"
      ],
      "metadata": {
        "id": "lE-hHXdn1ZjT"
      },
      "execution_count": null,
      "outputs": []
    },
    {
      "cell_type": "code",
      "source": [
        "# check shape to infer ohe worked (should have 3*(number of cat_cols) columns)\n",
        "print('shape of data is', X_train_processed.shape)"
      ],
      "metadata": {
        "id": "5crJ_QDQ1grT"
      },
      "execution_count": null,
      "outputs": []
    },
    {
      "cell_type": "code",
      "source": [
        "# check values to infer scaler worked (all values should be close to 0, +/-)\n",
        "X_train_processed"
      ],
      "metadata": {
        "id": "hiOOkjVb1rjL"
      },
      "execution_count": null,
      "outputs": []
    }
  ]
}

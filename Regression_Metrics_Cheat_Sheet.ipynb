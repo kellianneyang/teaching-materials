{
  "nbformat": 4,
  "nbformat_minor": 0,
  "metadata": {
    "colab": {
      "provenance": [],
      "authorship_tag": "ABX9TyMkwlG51tYptCH9K18Mxr3j",
      "include_colab_link": true
    },
    "kernelspec": {
      "name": "python3",
      "display_name": "Python 3"
    },
    "language_info": {
      "name": "python"
    }
  },
  "cells": [
    {
      "cell_type": "markdown",
      "metadata": {
        "id": "view-in-github",
        "colab_type": "text"
      },
      "source": [
        "<a href=\"https://colab.research.google.com/github/kellianneyang/teaching-materials/blob/main/Regression_Metrics_Cheat_Sheet.ipynb\" target=\"_parent\"><img src=\"https://colab.research.google.com/assets/colab-badge.svg\" alt=\"Open In Colab\"/></a>"
      ]
    },
    {
      "cell_type": "markdown",
      "source": [
        "# **Regression Metrics Cheat Sheet**"
      ],
      "metadata": {
        "id": "6KwgE73d3oUP"
      }
    },
    {
      "cell_type": "markdown",
      "source": [
        "*Adapted from Coding Dojo lesson in Machine Learning stack on regression metrics.*"
      ],
      "metadata": {
        "id": "MwMADv9V4zX9"
      }
    },
    {
      "cell_type": "markdown",
      "source": [
        "To evaluate a machine learning model, we should use multiple metrics. Each metric gives us a value that tells us in some sense how well the model predicted the data."
      ],
      "metadata": {
        "id": "5X24gR4s30wl"
      }
    },
    {
      "cell_type": "markdown",
      "source": [
        "All error metrics below show a RELATIVE measure (dependent on the scale and units of the target data, and meaningless out of context) except for R^2, which is between 0 and 1."
      ],
      "metadata": {
        "id": "6ms7ddkb7nsw"
      }
    },
    {
      "cell_type": "markdown",
      "source": [
        "# Import libraries\n",
        "\n",
        "\n",
        "```\n",
        "import numpy as np\n",
        "from sklearn.metrics import mean_absolute_error, mean_squared_error, r2_score\n",
        "```\n",
        "\n",
        "Most metrics below can be calculated with either numpy or sklearn. The exception is that sklearn does not compute a root mean squared error (RMSE). \n"
      ],
      "metadata": {
        "id": "50veU9iI3tZu"
      }
    },
    {
      "cell_type": "markdown",
      "source": [
        "# Mean Absolute Error (MAE)"
      ],
      "metadata": {
        "id": "GQSwWXw74tBG"
      }
    },
    {
      "cell_type": "markdown",
      "source": [
        "\"Mean absolute error measures the average of the *absolute values* of all of the errors our model makes.\"\n",
        "\n",
        "Features:\n",
        "- Penalizes small and large errors proportionally\n",
        "- Accounts for negative and positive errors potentially cancelling out by taking the absolute value of the error\n",
        "- Simple, easy to interpret\n",
        "- Result unit is same unit as data\n",
        "\n",
        "```\n",
        "# numpy\n",
        "train/test_MAE = np.mean(np.abs(train/test_pred - y_train/test))\n",
        "\n",
        "#sklearn (note: must list true y values first, then predicted values)\n",
        "train/test_MAE = mean_absolute_error(y_train/test, train/test_pred)\n",
        "```\n"
      ],
      "metadata": {
        "id": "4RMIPjwY5Dm2"
      }
    },
    {
      "cell_type": "markdown",
      "source": [
        "# Mean Squared Error (MSE)"
      ],
      "metadata": {
        "id": "lEhmpDhe6NZX"
      }
    },
    {
      "cell_type": "markdown",
      "source": [
        "\"Mean squared error is similar to mean absolute error, but it penalizes large errors more. This metric squares the error for each sample and then averages those squared errors.\"\n",
        "\n",
        "Features:\n",
        "- Punishes larger errors more than smaller errors\n",
        "- Result unit is squared\n",
        "- More difficult to interpret than MAE\n",
        "\n",
        "```\n",
        "# numpy\n",
        "train/test_MSE = np.mean(np.abs(train/test_pred - y_train/test)**2)\n",
        "\n",
        "# sklearn\n",
        "train/test_MSE = mean_squared_error(y_train/test, train/test_pred\n",
        "```\n",
        "\n"
      ],
      "metadata": {
        "id": "aUGgSAfI6P11"
      }
    },
    {
      "cell_type": "markdown",
      "source": [
        "# Root Mean Squared Error (RMSE)"
      ],
      "metadata": {
        "id": "WMKfyYnf61ze"
      }
    },
    {
      "cell_type": "markdown",
      "source": [
        "\"Root mean squared error is the square root of the mean squared error.\"\n",
        "\n",
        "Features:\n",
        "- Punishes larger errors more than smaller errors\n",
        "- Result unit is same unit as data (therefore easier to interpret than MSE)\n",
        "\n",
        "```\n",
        "# numpy\n",
        "train/test_RMSE = np.sqrt(np.mean(np.abs(train/test_pred - y_train/test)**2)\n",
        "\n",
        "# sklearn (note: no dedicated method)\n",
        "train/test_RMSE = np.sqrt(train/test_MSE)\n",
        "```\n",
        "\n"
      ],
      "metadata": {
        "id": "HK_WOoOD65P-"
      }
    },
    {
      "cell_type": "markdown",
      "source": [
        "# R-Squared Score (R2, R^2)"
      ],
      "metadata": {
        "id": "lnqiEdYY75k2"
      }
    },
    {
      "cell_type": "markdown",
      "source": [
        "\"The R2 score ... describes the percentage of the variation in the target variable that a model can explain by using all the features together.\"\n",
        "\n",
        "Features:\n",
        "- Expressed as a percentage (between 0 and 1) of the amount of target variable the model can predict\n",
        "- Higher R2 not always better, lower R2 not always worse (must look at residual plots; subject to overfitting and other considerations)\n",
        "\n",
        "```\n",
        "# numpy\n",
        "train/test_r2 = np.corrcoef(y_train/test, train/test_pred)[0][1]**2\n",
        "\n",
        "# sklearn\n",
        "train/test_r2 = r2_score(y_train/test, train/test_pred)\n",
        "```\n",
        "\n",
        "More information/helpful video about R2: \n",
        "[https://statisticsbyjim.com/regression/interpret-r-squared-regression/](https://statisticsbyjim.com/regression/interpret-r-squared-regression/)\n",
        "\n"
      ],
      "metadata": {
        "id": "-aX9TgJS79-e"
      }
    }
  ]
}